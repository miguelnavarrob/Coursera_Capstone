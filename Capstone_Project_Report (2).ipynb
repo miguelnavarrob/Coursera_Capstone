{
 "cells": [
  {
   "cell_type": "markdown",
   "metadata": {},
   "source": [
    "<h1>Coursera Capstone Project Report<\\h1>"
   ]
  },
  {
   "cell_type": "markdown",
   "metadata": {},
   "source": [
    "<h2>Where to open a new restaurant in Madrid?<\\h2>"
   ]
  },
  {
   "cell_type": "markdown",
   "metadata": {},
   "source": [
    "<h3>Problem Description<\\h3>"
   ]
  },
  {
   "cell_type": "markdown",
   "metadata": {},
   "source": [
    "Recently, a client has reached out saying that he/she wants to open a new restaurant in the city of Madrid. He would like to choose which is the best rated type of food by locals and which is the best location in order to make it the most profitable. "
   ]
  },
  {
   "cell_type": "markdown",
   "metadata": {},
   "source": [
    "First approach to the problem is trying to set a methodology for fixing a target and presenting the correct results. We are going to deal with different Foursquare data such as ratings, coordinates, type of cuisine... The solution must be expressed by giving a type of food and some coordinates that could be represented in a map. With this analysis, we can give several options to our client to help him/her make the correct decision. "
   ]
  },
  {
   "cell_type": "markdown",
   "metadata": {},
   "source": [
    "<h3>Data Description<\\h3>"
   ]
  },
  {
   "cell_type": "markdown",
   "metadata": {},
   "source": [
    "In this project we are going to use the Foursquare API for different purposes. We are going to construct a URL to send a request to the API to search for a specific type of venues, to explore a geographical location, and to get trending venues around a location. Also, we we use Folium for creating maps and representing locations. "
   ]
  },
  {
   "cell_type": "markdown",
   "metadata": {},
   "source": [
    "Making calls to the Foursquare API will led us to create json files that can be trnasformed into Dataframes. This DF are easily refined and filter using pandas tools. Data of special interest could range from Ratings, Longitude, Latitude, Type of Food..."
   ]
  },
  {
   "cell_type": "markdown",
   "metadata": {},
   "source": [
    "The steps carried out in this process should be:"
   ]
  },
  {
   "cell_type": "markdown",
   "metadata": {},
   "source": [
    "- Data Acquisition"
   ]
  },
  {
   "cell_type": "markdown",
   "metadata": {},
   "source": [
    "- Data Wrangling and Filtering"
   ]
  },
  {
   "cell_type": "markdown",
   "metadata": {},
   "source": [
    "- Creating a data analysis model"
   ]
  },
  {
   "cell_type": "markdown",
   "metadata": {},
   "source": [
    "- Choosing a classification model"
   ]
  },
  {
   "cell_type": "markdown",
   "metadata": {},
   "source": [
    "- Deciding a solution"
   ]
  }
 ],
 "metadata": {
  "kernelspec": {
   "display_name": "Python 3",
   "language": "python",
   "name": "python3"
  },
  "language_info": {
   "codemirror_mode": {
    "name": "ipython",
    "version": 3
   },
   "file_extension": ".py",
   "mimetype": "text/x-python",
   "name": "python",
   "nbconvert_exporter": "python",
   "pygments_lexer": "ipython3",
   "version": "3.6.6"
  }
 },
 "nbformat": 4,
 "nbformat_minor": 2
}
